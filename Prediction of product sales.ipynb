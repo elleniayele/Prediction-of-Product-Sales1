{
  "nbformat": 4,
  "nbformat_minor": 0,
  "metadata": {
    "colab": {
      "provenance": [],
      "authorship_tag": "ABX9TyP1D0EBEQ+nqEBtXzxvH71w",
      "include_colab_link": true
    },
    "kernelspec": {
      "name": "python3",
      "display_name": "Python 3"
    },
    "language_info": {
      "name": "python"
    }
  },
  "cells": [
    {
      "cell_type": "markdown",
      "metadata": {
        "id": "view-in-github",
        "colab_type": "text"
      },
      "source": [
        "<a href=\"https://colab.research.google.com/github/elleniayele/Prediction-of-Product-Sales1/blob/main/Prediction%20of%20product%20sales.ipynb\" target=\"_parent\"><img src=\"https://colab.research.google.com/assets/colab-badge.svg\" alt=\"Open In Colab\"/></a>"
      ]
    },
    {
      "cell_type": "code",
      "execution_count": null,
      "metadata": {
        "id": "PaqAxqSNKXkw"
      },
      "outputs": [],
      "source": [
        "## Prediction Of Product Cells\n",
        "-Elleni\n",
        "#Project Overview\n",
        "\n",
        "#Load And Inspect Data\n",
        "\n",
        "#Clean Data\n",
        "\n",
        "#Exploratory Data Analysis\n",
        "\n",
        "#Explanatory Data Analysis\n"
      ]
    }
  ]
}
{
  "nbformat": 4,
  "nbformat_minor": 0,
  "metadata": {
    "colab": {
      "provenance": [],
      "authorship_tag": "ABX9TyOluO/2ZRctxHtqqs6JnwgW",
      "include_colab_link": true
    },
    "kernelspec": {
      "name": "python3",
      "display_name": "Python 3"
    },
    "language_info": {
      "name": "python"
    }
  },
  "cells": [
    {
      "cell_type": "markdown",
      "metadata": {
        "id": "view-in-github",
        "colab_type": "text"
      },
      "source": [
        "<a href=\"https://colab.research.google.com/github/elleniayele/Prediction-of-Product-Sales1/blob/main/Untitled5.ipynb\" target=\"_parent\"><img src=\"https://colab.research.google.com/assets/colab-badge.svg\" alt=\"Open In Colab\"/></a>"
      ]
    },
    {
      "cell_type": "code",
      "execution_count": null,
      "metadata": {
        "colab": {
          "base_uri": "https://localhost:8080/"
        },
        "id": "2lZuhuBPBlaW",
        "outputId": "622ba1dd-81ac-4279-adfd-8b057ec77e8b"
      },
      "outputs": [
        {
          "output_type": "stream",
          "name": "stdout",
          "text": [
            "53.42857142857143\n",
            "55.0\n"
          ]
        },
        {
          "output_type": "execute_result",
          "data": {
            "text/plain": [
              "55"
            ]
          },
          "metadata": {},
          "execution_count": 47
        }
      ],
      "source": [
        "# TASK 1 Run a code cell with the lists of temperature data:\n",
        "import numpy as np\n",
        "from statistics import mode\n",
        "#Lists of Fahrenheit temps\n",
        "week_1 = [45, 55, 49, 60, 52, 55, 58]\n",
        "week_2 = [51, 49, 62, 50, 53, 56, 59]\n",
        "week_3 = [60, 60, 61, 62, 57, 59, 58]\n",
        "week_4 = [59, 63, 62, 61, 65, 66, 62]\n",
        " #Use functions from the imported packages to find the mean, median, and mode for the week_1 data\n",
        "print(np.mean(week_1))\n",
        "print(np.median(week_1))\n",
        "mode(week_1)"
      ]
    },
    {
      "cell_type": "code",
      "source": [
        "#TASK 2 Now, rather than having to call each of these functions separately to get the three measures of central tendency, write a custom function to return all three values in a single function call:\n",
        "#Name the function \"central_tendency\" and start with a single positional argument that accepts the list of temperatures.\n",
        "import numpy as np\n",
        "import statistics as stat\n",
        "def central_tendency(temp_list):\n",
        "   mean_temp= np.mean(temp_list)\n",
        "   median_temp= np.median(temp_list)\n",
        "   mode_temp= stat.mode(temp_list)\n",
        "#Add a return statement to return all three variables. \n",
        "   return mean_temp,median_temp,mode_temp\n",
        " "
      ],
      "metadata": {
        "id": "Gk4SnaNnFoZ6"
      },
      "execution_count": null,
      "outputs": []
    },
    {
      "cell_type": "code",
      "source": [
        "temperature=  central_tendency(week_1)\n",
        "print(temperature)"
      ],
      "metadata": {
        "colab": {
          "base_uri": "https://localhost:8080/"
        },
        "id": "sxAUgcH8TD8C",
        "outputId": "aa259c7b-3fd9-4260-af07-d608d7b2d386"
      },
      "execution_count": null,
      "outputs": [
        {
          "output_type": "stream",
          "name": "stdout",
          "text": [
            "(53.42857142857143, 55.0, 55)\n"
          ]
        }
      ]
    },
    {
      "cell_type": "code",
      "source": [
        "# TASK 3 another method \n",
        "import numpy as np\n",
        "import statistics as stat\n",
        "def central_tendency(temp_list,verbose=True):\n",
        "  mean_temp=np.mean(temp_list)\n",
        "  median_temp=np.median(temp_list)\n",
        "  mode_temp=stat.mode(temp_list)\n",
        "  \n",
        "\n",
        "  if verbose==True:\n",
        "    print(f\"the mean is :{mean_temp}\")\n",
        "    print(f\"the median is :{median_temp}\")\n",
        "    print(f\"the mode is :{mode_temp}\")\n",
        "  else:\n",
        "   return(mean_temp,median_temp,mode_temp)\n",
        "   "
      ],
      "metadata": {
        "id": "U9i0XJORLv01"
      },
      "execution_count": null,
      "outputs": []
    },
    {
      "cell_type": "code",
      "source": [
        "#central_tendency(week_1)"
      ],
      "metadata": {
        "id": "B_I6sHYIMssf"
      },
      "execution_count": null,
      "outputs": []
    },
    {
      "cell_type": "code",
      "source": [
        "#TASK 4 Test the function on week_2 \n",
        "import numpy as np\n",
        "import statistics as stat\n",
        "def central_tendency(temp_list,verbose=True):\n",
        "  mean_temp=np.mean(temp_list)\n",
        "  median_temp=np.median(temp_list)\n",
        "  mode_temp=stat.mode(temp_list)\n",
        "  \n",
        "\n",
        "  if verbose==True:\n",
        "    print(f\"the mean is :{mean_temp}\")\n",
        "    print(f\"the median is :{median_temp}\")\n",
        "    print(f\"the mode is :{mode_temp}\")\n",
        "  else:\n",
        "   return(mean_temp,median_temp,mode_temp)\n",
        "   \n"
      ],
      "metadata": {
        "id": "vbrk2VUfOrGy"
      },
      "execution_count": null,
      "outputs": []
    },
    {
      "cell_type": "code",
      "source": [
        "#TESING USING VERBOSE=TRUE PARAMETER\n",
        "central_tendency(week_2,verbose=True)"
      ],
      "metadata": {
        "colab": {
          "base_uri": "https://localhost:8080/"
        },
        "id": "hotsvSxxPMsP",
        "outputId": "04bcdbd4-cd05-415d-e47c-66e392f28246"
      },
      "execution_count": null,
      "outputs": [
        {
          "output_type": "stream",
          "name": "stdout",
          "text": [
            "the mean is :54.285714285714285\n",
            "the median is :53.0\n",
            "the mode is :51\n"
          ]
        }
      ]
    },
    {
      "cell_type": "code",
      "source": [
        "#With no argument for verbose included in the functional call (to test the default).\n",
        "central_tendency(week_2)"
      ],
      "metadata": {
        "colab": {
          "base_uri": "https://localhost:8080/"
        },
        "id": "QZWEomy9Qllt",
        "outputId": "ec28f6f4-e8cf-4f41-e5c5-113064e8694d"
      },
      "execution_count": null,
      "outputs": [
        {
          "output_type": "stream",
          "name": "stdout",
          "text": [
            "the mean is :54.285714285714285\n",
            "the median is :53.0\n",
            "the mode is :51\n"
          ]
        }
      ]
    },
    {
      "cell_type": "code",
      "source": [
        "#With \"verbose = False\" included as the second argument in the function call.\n",
        "central_tendency(week_2,verbose=False)"
      ],
      "metadata": {
        "colab": {
          "base_uri": "https://localhost:8080/"
        },
        "id": "kOy1uiDSQ3k8",
        "outputId": "1db3d09e-e0c7-4ba6-bd0f-ed366a41f412"
      },
      "execution_count": null,
      "outputs": [
        {
          "output_type": "execute_result",
          "data": {
            "text/plain": [
              "(54.285714285714285, 53.0, 51)"
            ]
          },
          "metadata": {},
          "execution_count": 55
        }
      ]
    }
  ]
}